{
 "cells": [
  {
   "cell_type": "markdown",
   "metadata": {},
   "source": [
    "Dữ liệu được cung cấp trong file penguins-data.csv được khảo sát các số đo của 3 loài chim cánh cụt trên 3 đảo (Biscoe, Dream, Torgersen). Yêu cầu\n",
    "1.(1 điểm) Đọc dữ liệu và hiển thị 10 dòng dữ liệu đầu tiên"
   ]
  },
  {
   "cell_type": "code",
   "execution_count": 1,
   "metadata": {},
   "outputs": [],
   "source": [
    "import pandas as pd\n",
    "import numpy as np\n",
    "import matplotlib.pyplot as plt"
   ]
  },
  {
   "cell_type": "markdown",
   "metadata": {},
   "source": [
    "1.(1 điểm) Đọc dữ liệu và hiển thị 10 dòng dữ liệu đầu tiên"
   ]
  },
  {
   "cell_type": "code",
   "execution_count": 2,
   "metadata": {},
   "outputs": [],
   "source": [
    "dt_penguins = pd.read_csv('penguins-data.csv')"
   ]
  },
  {
   "cell_type": "code",
   "execution_count": 3,
   "metadata": {},
   "outputs": [
    {
     "data": {
      "text/html": [
       "<div>\n",
       "<style scoped>\n",
       "    .dataframe tbody tr th:only-of-type {\n",
       "        vertical-align: middle;\n",
       "    }\n",
       "\n",
       "    .dataframe tbody tr th {\n",
       "        vertical-align: top;\n",
       "    }\n",
       "\n",
       "    .dataframe thead th {\n",
       "        text-align: right;\n",
       "    }\n",
       "</style>\n",
       "<table border=\"1\" class=\"dataframe\">\n",
       "  <thead>\n",
       "    <tr style=\"text-align: right;\">\n",
       "      <th></th>\n",
       "      <th>Unnamed: 0</th>\n",
       "      <th>species</th>\n",
       "      <th>island</th>\n",
       "      <th>bill_length_mm</th>\n",
       "      <th>bill_depth_mm</th>\n",
       "      <th>flipper_length_mm</th>\n",
       "      <th>body_mass_g</th>\n",
       "      <th>sex</th>\n",
       "    </tr>\n",
       "  </thead>\n",
       "  <tbody>\n",
       "    <tr>\n",
       "      <th>0</th>\n",
       "      <td>0</td>\n",
       "      <td>Adelie</td>\n",
       "      <td>Torgersen</td>\n",
       "      <td>39.1</td>\n",
       "      <td>18.7</td>\n",
       "      <td>181.0</td>\n",
       "      <td>3750.0</td>\n",
       "      <td>MALE</td>\n",
       "    </tr>\n",
       "    <tr>\n",
       "      <th>1</th>\n",
       "      <td>1</td>\n",
       "      <td>Adelie</td>\n",
       "      <td>Torgersen</td>\n",
       "      <td>39.5</td>\n",
       "      <td>17.4</td>\n",
       "      <td>186.0</td>\n",
       "      <td>3800.0</td>\n",
       "      <td>FEMALE</td>\n",
       "    </tr>\n",
       "    <tr>\n",
       "      <th>2</th>\n",
       "      <td>2</td>\n",
       "      <td>Adelie</td>\n",
       "      <td>Torgersen</td>\n",
       "      <td>40.3</td>\n",
       "      <td>18.0</td>\n",
       "      <td>195.0</td>\n",
       "      <td>3250.0</td>\n",
       "      <td>FEMALE</td>\n",
       "    </tr>\n",
       "    <tr>\n",
       "      <th>3</th>\n",
       "      <td>4</td>\n",
       "      <td>Adelie</td>\n",
       "      <td>Torgersen</td>\n",
       "      <td>36.7</td>\n",
       "      <td>19.3</td>\n",
       "      <td>193.0</td>\n",
       "      <td>3450.0</td>\n",
       "      <td>FEMALE</td>\n",
       "    </tr>\n",
       "    <tr>\n",
       "      <th>4</th>\n",
       "      <td>5</td>\n",
       "      <td>Adelie</td>\n",
       "      <td>Torgersen</td>\n",
       "      <td>39.3</td>\n",
       "      <td>20.6</td>\n",
       "      <td>190.0</td>\n",
       "      <td>3650.0</td>\n",
       "      <td>MALE</td>\n",
       "    </tr>\n",
       "    <tr>\n",
       "      <th>5</th>\n",
       "      <td>6</td>\n",
       "      <td>Adelie</td>\n",
       "      <td>Torgersen</td>\n",
       "      <td>38.9</td>\n",
       "      <td>17.8</td>\n",
       "      <td>181.0</td>\n",
       "      <td>3625.0</td>\n",
       "      <td>FEMALE</td>\n",
       "    </tr>\n",
       "    <tr>\n",
       "      <th>6</th>\n",
       "      <td>7</td>\n",
       "      <td>Adelie</td>\n",
       "      <td>Torgersen</td>\n",
       "      <td>39.2</td>\n",
       "      <td>19.6</td>\n",
       "      <td>195.0</td>\n",
       "      <td>4675.0</td>\n",
       "      <td>MALE</td>\n",
       "    </tr>\n",
       "    <tr>\n",
       "      <th>7</th>\n",
       "      <td>12</td>\n",
       "      <td>Adelie</td>\n",
       "      <td>Torgersen</td>\n",
       "      <td>41.1</td>\n",
       "      <td>17.6</td>\n",
       "      <td>182.0</td>\n",
       "      <td>3200.0</td>\n",
       "      <td>FEMALE</td>\n",
       "    </tr>\n",
       "    <tr>\n",
       "      <th>8</th>\n",
       "      <td>13</td>\n",
       "      <td>Adelie</td>\n",
       "      <td>Torgersen</td>\n",
       "      <td>38.6</td>\n",
       "      <td>21.2</td>\n",
       "      <td>191.0</td>\n",
       "      <td>3800.0</td>\n",
       "      <td>MALE</td>\n",
       "    </tr>\n",
       "    <tr>\n",
       "      <th>9</th>\n",
       "      <td>14</td>\n",
       "      <td>Adelie</td>\n",
       "      <td>Torgersen</td>\n",
       "      <td>34.6</td>\n",
       "      <td>21.1</td>\n",
       "      <td>198.0</td>\n",
       "      <td>4400.0</td>\n",
       "      <td>MALE</td>\n",
       "    </tr>\n",
       "  </tbody>\n",
       "</table>\n",
       "</div>"
      ],
      "text/plain": [
       "   Unnamed: 0 species     island  bill_length_mm  bill_depth_mm  \\\n",
       "0           0  Adelie  Torgersen            39.1           18.7   \n",
       "1           1  Adelie  Torgersen            39.5           17.4   \n",
       "2           2  Adelie  Torgersen            40.3           18.0   \n",
       "3           4  Adelie  Torgersen            36.7           19.3   \n",
       "4           5  Adelie  Torgersen            39.3           20.6   \n",
       "5           6  Adelie  Torgersen            38.9           17.8   \n",
       "6           7  Adelie  Torgersen            39.2           19.6   \n",
       "7          12  Adelie  Torgersen            41.1           17.6   \n",
       "8          13  Adelie  Torgersen            38.6           21.2   \n",
       "9          14  Adelie  Torgersen            34.6           21.1   \n",
       "\n",
       "   flipper_length_mm  body_mass_g     sex  \n",
       "0              181.0       3750.0    MALE  \n",
       "1              186.0       3800.0  FEMALE  \n",
       "2              195.0       3250.0  FEMALE  \n",
       "3              193.0       3450.0  FEMALE  \n",
       "4              190.0       3650.0    MALE  \n",
       "5              181.0       3625.0  FEMALE  \n",
       "6              195.0       4675.0    MALE  \n",
       "7              182.0       3200.0  FEMALE  \n",
       "8              191.0       3800.0    MALE  \n",
       "9              198.0       4400.0    MALE  "
      ]
     },
     "execution_count": 3,
     "metadata": {},
     "output_type": "execute_result"
    }
   ],
   "source": [
    "dt_penguins.head(10)"
   ]
  },
  {
   "cell_type": "code",
   "execution_count": 11,
   "metadata": {},
   "outputs": [
    {
     "name": "stdout",
     "output_type": "stream",
     "text": [
      "<class 'pandas.core.frame.DataFrame'>\n",
      "RangeIndex: 333 entries, 0 to 332\n",
      "Data columns (total 8 columns):\n",
      " #   Column             Non-Null Count  Dtype  \n",
      "---  ------             --------------  -----  \n",
      " 0   Unnamed: 0         333 non-null    int64  \n",
      " 1   species            333 non-null    object \n",
      " 2   island             333 non-null    object \n",
      " 3   bill_length_mm     333 non-null    float64\n",
      " 4   bill_depth_mm      333 non-null    float64\n",
      " 5   flipper_length_mm  333 non-null    float64\n",
      " 6   body_mass_g        333 non-null    float64\n",
      " 7   sex                333 non-null    object \n",
      "dtypes: float64(4), int64(1), object(3)\n",
      "memory usage: 20.9+ KB\n"
     ]
    }
   ],
   "source": [
    "dt_penguins.info()"
   ]
  },
  {
   "cell_type": "code",
   "execution_count": 12,
   "metadata": {},
   "outputs": [
    {
     "data": {
      "text/html": [
       "<div>\n",
       "<style scoped>\n",
       "    .dataframe tbody tr th:only-of-type {\n",
       "        vertical-align: middle;\n",
       "    }\n",
       "\n",
       "    .dataframe tbody tr th {\n",
       "        vertical-align: top;\n",
       "    }\n",
       "\n",
       "    .dataframe thead th {\n",
       "        text-align: right;\n",
       "    }\n",
       "</style>\n",
       "<table border=\"1\" class=\"dataframe\">\n",
       "  <thead>\n",
       "    <tr style=\"text-align: right;\">\n",
       "      <th></th>\n",
       "      <th>Unnamed: 0</th>\n",
       "      <th>bill_length_mm</th>\n",
       "      <th>bill_depth_mm</th>\n",
       "      <th>flipper_length_mm</th>\n",
       "      <th>body_mass_g</th>\n",
       "    </tr>\n",
       "  </thead>\n",
       "  <tbody>\n",
       "    <tr>\n",
       "      <th>count</th>\n",
       "      <td>333.000000</td>\n",
       "      <td>333.000000</td>\n",
       "      <td>333.000000</td>\n",
       "      <td>333.000000</td>\n",
       "      <td>333.000000</td>\n",
       "    </tr>\n",
       "    <tr>\n",
       "      <th>mean</th>\n",
       "      <td>172.303303</td>\n",
       "      <td>43.992793</td>\n",
       "      <td>17.164865</td>\n",
       "      <td>200.966967</td>\n",
       "      <td>4207.057057</td>\n",
       "    </tr>\n",
       "    <tr>\n",
       "      <th>std</th>\n",
       "      <td>97.346548</td>\n",
       "      <td>5.468668</td>\n",
       "      <td>1.969235</td>\n",
       "      <td>14.015765</td>\n",
       "      <td>805.215802</td>\n",
       "    </tr>\n",
       "    <tr>\n",
       "      <th>min</th>\n",
       "      <td>0.000000</td>\n",
       "      <td>32.100000</td>\n",
       "      <td>13.100000</td>\n",
       "      <td>172.000000</td>\n",
       "      <td>2700.000000</td>\n",
       "    </tr>\n",
       "    <tr>\n",
       "      <th>25%</th>\n",
       "      <td>89.000000</td>\n",
       "      <td>39.500000</td>\n",
       "      <td>15.600000</td>\n",
       "      <td>190.000000</td>\n",
       "      <td>3550.000000</td>\n",
       "    </tr>\n",
       "    <tr>\n",
       "      <th>50%</th>\n",
       "      <td>172.000000</td>\n",
       "      <td>44.500000</td>\n",
       "      <td>17.300000</td>\n",
       "      <td>197.000000</td>\n",
       "      <td>4050.000000</td>\n",
       "    </tr>\n",
       "    <tr>\n",
       "      <th>75%</th>\n",
       "      <td>256.000000</td>\n",
       "      <td>48.600000</td>\n",
       "      <td>18.700000</td>\n",
       "      <td>213.000000</td>\n",
       "      <td>4775.000000</td>\n",
       "    </tr>\n",
       "    <tr>\n",
       "      <th>max</th>\n",
       "      <td>343.000000</td>\n",
       "      <td>59.600000</td>\n",
       "      <td>21.500000</td>\n",
       "      <td>231.000000</td>\n",
       "      <td>6300.000000</td>\n",
       "    </tr>\n",
       "  </tbody>\n",
       "</table>\n",
       "</div>"
      ],
      "text/plain": [
       "       Unnamed: 0  bill_length_mm  bill_depth_mm  flipper_length_mm  \\\n",
       "count  333.000000      333.000000     333.000000         333.000000   \n",
       "mean   172.303303       43.992793      17.164865         200.966967   \n",
       "std     97.346548        5.468668       1.969235          14.015765   \n",
       "min      0.000000       32.100000      13.100000         172.000000   \n",
       "25%     89.000000       39.500000      15.600000         190.000000   \n",
       "50%    172.000000       44.500000      17.300000         197.000000   \n",
       "75%    256.000000       48.600000      18.700000         213.000000   \n",
       "max    343.000000       59.600000      21.500000         231.000000   \n",
       "\n",
       "       body_mass_g  \n",
       "count   333.000000  \n",
       "mean   4207.057057  \n",
       "std     805.215802  \n",
       "min    2700.000000  \n",
       "25%    3550.000000  \n",
       "50%    4050.000000  \n",
       "75%    4775.000000  \n",
       "max    6300.000000  "
      ]
     },
     "execution_count": 12,
     "metadata": {},
     "output_type": "execute_result"
    }
   ],
   "source": [
    "dt_penguins.describe()"
   ]
  },
  {
   "cell_type": "markdown",
   "metadata": {},
   "source": [
    "2.(5 điểm) Tìm hiểu thông tin về dữ liệu:\n",
    "\n",
    "a.Số lượng chim cánh cụt của mỗi loài. "
   ]
  },
  {
   "cell_type": "code",
   "execution_count": 4,
   "metadata": {},
   "outputs": [
    {
     "data": {
      "text/plain": [
       "species\n",
       "Adelie       146\n",
       "Gentoo       119\n",
       "Chinstrap     68\n",
       "Name: count, dtype: int64"
      ]
     },
     "execution_count": 4,
     "metadata": {},
     "output_type": "execute_result"
    }
   ],
   "source": [
    "dt_penguins['species'].value_counts()"
   ]
  },
  {
   "cell_type": "markdown",
   "metadata": {},
   "source": [
    "b.Số lượng mỗi loài chim cánh cụt trên mỗi đảo"
   ]
  },
  {
   "cell_type": "code",
   "execution_count": 5,
   "metadata": {},
   "outputs": [
    {
     "data": {
      "text/plain": [
       "species    island   \n",
       "Adelie     Biscoe        44\n",
       "           Dream         55\n",
       "           Torgersen     47\n",
       "Chinstrap  Dream         68\n",
       "Gentoo     Biscoe       119\n",
       "dtype: int64"
      ]
     },
     "execution_count": 5,
     "metadata": {},
     "output_type": "execute_result"
    }
   ],
   "source": [
    "# print(dt_penguins['island'].value_counts())\n",
    "dt_penguins.groupby(['species','island']).size()\n"
   ]
  },
  {
   "cell_type": "markdown",
   "metadata": {},
   "source": [
    "c. Với mỗi loại chim cánh cụt, bạn hãy so sánh các đại lượng thống kê: giá trị trung bình, trung vị, độ lệch chuẩn trên các thuộc tính độ dài mỏ (bill_leghth_mm), độ sâu mỏ (bill_depth_mm), độ dài cánh (flipper) và trọng lượng (body_mass)."
   ]
  },
  {
   "cell_type": "code",
   "execution_count": 7,
   "metadata": {},
   "outputs": [
    {
     "data": {
      "text/html": [
       "<div>\n",
       "<style scoped>\n",
       "    .dataframe tbody tr th:only-of-type {\n",
       "        vertical-align: middle;\n",
       "    }\n",
       "\n",
       "    .dataframe tbody tr th {\n",
       "        vertical-align: top;\n",
       "    }\n",
       "\n",
       "    .dataframe thead th {\n",
       "        text-align: right;\n",
       "    }\n",
       "</style>\n",
       "<table border=\"1\" class=\"dataframe\">\n",
       "  <thead>\n",
       "    <tr style=\"text-align: right;\">\n",
       "      <th></th>\n",
       "      <th></th>\n",
       "      <th>bill_length_mm</th>\n",
       "      <th>bill_depth_mm</th>\n",
       "      <th>flipper_length_mm</th>\n",
       "      <th>body_mass_g</th>\n",
       "    </tr>\n",
       "    <tr>\n",
       "      <th>species</th>\n",
       "      <th>island</th>\n",
       "      <th></th>\n",
       "      <th></th>\n",
       "      <th></th>\n",
       "      <th></th>\n",
       "    </tr>\n",
       "  </thead>\n",
       "  <tbody>\n",
       "    <tr>\n",
       "      <th rowspan=\"3\" valign=\"top\">Adelie</th>\n",
       "      <th>Biscoe</th>\n",
       "      <td>38.975000</td>\n",
       "      <td>18.370455</td>\n",
       "      <td>188.795455</td>\n",
       "      <td>3709.659091</td>\n",
       "    </tr>\n",
       "    <tr>\n",
       "      <th>Dream</th>\n",
       "      <td>38.520000</td>\n",
       "      <td>18.240000</td>\n",
       "      <td>189.927273</td>\n",
       "      <td>3701.363636</td>\n",
       "    </tr>\n",
       "    <tr>\n",
       "      <th>Torgersen</th>\n",
       "      <td>39.038298</td>\n",
       "      <td>18.451064</td>\n",
       "      <td>191.531915</td>\n",
       "      <td>3708.510638</td>\n",
       "    </tr>\n",
       "    <tr>\n",
       "      <th>Chinstrap</th>\n",
       "      <th>Dream</th>\n",
       "      <td>48.833824</td>\n",
       "      <td>18.420588</td>\n",
       "      <td>195.823529</td>\n",
       "      <td>3733.088235</td>\n",
       "    </tr>\n",
       "    <tr>\n",
       "      <th>Gentoo</th>\n",
       "      <th>Biscoe</th>\n",
       "      <td>47.568067</td>\n",
       "      <td>14.996639</td>\n",
       "      <td>217.235294</td>\n",
       "      <td>5092.436975</td>\n",
       "    </tr>\n",
       "  </tbody>\n",
       "</table>\n",
       "</div>"
      ],
      "text/plain": [
       "                     bill_length_mm  bill_depth_mm  flipper_length_mm  \\\n",
       "species   island                                                        \n",
       "Adelie    Biscoe          38.975000      18.370455         188.795455   \n",
       "          Dream           38.520000      18.240000         189.927273   \n",
       "          Torgersen       39.038298      18.451064         191.531915   \n",
       "Chinstrap Dream           48.833824      18.420588         195.823529   \n",
       "Gentoo    Biscoe          47.568067      14.996639         217.235294   \n",
       "\n",
       "                     body_mass_g  \n",
       "species   island                  \n",
       "Adelie    Biscoe     3709.659091  \n",
       "          Dream      3701.363636  \n",
       "          Torgersen  3708.510638  \n",
       "Chinstrap Dream      3733.088235  \n",
       "Gentoo    Biscoe     5092.436975  "
      ]
     },
     "execution_count": 7,
     "metadata": {},
     "output_type": "execute_result"
    }
   ],
   "source": [
    "# tính trung bình\n",
    "dt_penguins[['species','island','bill_length_mm','bill_depth_mm','flipper_length_mm','body_mass_g']].groupby(['species','island']).mean()"
   ]
  },
  {
   "cell_type": "markdown",
   "metadata": {},
   "source": [
    "Nhận xét: Theo số liệu thống kê, thấy được tỉ lệ trung bình theo độ dài mỏ của mỗi loại chim trên các đảo như Loại Adelie so với chinstrap và Gentoo chênh lệch khoảng 10.00, theo độ sâu mỏ thì không có sự chênh lệch nhiều chỉ có chênh lệch với loại Gentoo khoảng 4.00, theo dài cánh thì tỉ lệ phân bố có sự đồng đều với chênh lệch không đang kể trên mỗi đảo, Cuối cùng là theo trọng lượng thì có sự chênh lệch khác cao của loại Gentoo so với các loại khác trên 10.00"
   ]
  },
  {
   "cell_type": "code",
   "execution_count": 33,
   "metadata": {},
   "outputs": [
    {
     "data": {
      "text/html": [
       "<div>\n",
       "<style scoped>\n",
       "    .dataframe tbody tr th:only-of-type {\n",
       "        vertical-align: middle;\n",
       "    }\n",
       "\n",
       "    .dataframe tbody tr th {\n",
       "        vertical-align: top;\n",
       "    }\n",
       "\n",
       "    .dataframe thead th {\n",
       "        text-align: right;\n",
       "    }\n",
       "</style>\n",
       "<table border=\"1\" class=\"dataframe\">\n",
       "  <thead>\n",
       "    <tr style=\"text-align: right;\">\n",
       "      <th></th>\n",
       "      <th></th>\n",
       "      <th>bill_length_mm</th>\n",
       "      <th>bill_depth_mm</th>\n",
       "      <th>flipper_length_mm</th>\n",
       "      <th>body_mass_g</th>\n",
       "    </tr>\n",
       "    <tr>\n",
       "      <th>species</th>\n",
       "      <th>island</th>\n",
       "      <th></th>\n",
       "      <th></th>\n",
       "      <th></th>\n",
       "      <th></th>\n",
       "    </tr>\n",
       "  </thead>\n",
       "  <tbody>\n",
       "    <tr>\n",
       "      <th rowspan=\"3\" valign=\"top\">Adelie</th>\n",
       "      <th>Biscoe</th>\n",
       "      <td>38.70</td>\n",
       "      <td>18.45</td>\n",
       "      <td>189.5</td>\n",
       "      <td>3750.0</td>\n",
       "    </tr>\n",
       "    <tr>\n",
       "      <th>Dream</th>\n",
       "      <td>38.80</td>\n",
       "      <td>18.40</td>\n",
       "      <td>190.0</td>\n",
       "      <td>3600.0</td>\n",
       "    </tr>\n",
       "    <tr>\n",
       "      <th>Torgersen</th>\n",
       "      <td>39.00</td>\n",
       "      <td>18.40</td>\n",
       "      <td>191.0</td>\n",
       "      <td>3700.0</td>\n",
       "    </tr>\n",
       "    <tr>\n",
       "      <th>Chinstrap</th>\n",
       "      <th>Dream</th>\n",
       "      <td>49.55</td>\n",
       "      <td>18.45</td>\n",
       "      <td>196.0</td>\n",
       "      <td>3700.0</td>\n",
       "    </tr>\n",
       "    <tr>\n",
       "      <th>Gentoo</th>\n",
       "      <th>Biscoe</th>\n",
       "      <td>47.40</td>\n",
       "      <td>15.00</td>\n",
       "      <td>216.0</td>\n",
       "      <td>5050.0</td>\n",
       "    </tr>\n",
       "  </tbody>\n",
       "</table>\n",
       "</div>"
      ],
      "text/plain": [
       "                     bill_length_mm  bill_depth_mm  flipper_length_mm  \\\n",
       "species   island                                                        \n",
       "Adelie    Biscoe              38.70          18.45              189.5   \n",
       "          Dream               38.80          18.40              190.0   \n",
       "          Torgersen           39.00          18.40              191.0   \n",
       "Chinstrap Dream               49.55          18.45              196.0   \n",
       "Gentoo    Biscoe              47.40          15.00              216.0   \n",
       "\n",
       "                     body_mass_g  \n",
       "species   island                  \n",
       "Adelie    Biscoe          3750.0  \n",
       "          Dream           3600.0  \n",
       "          Torgersen       3700.0  \n",
       "Chinstrap Dream           3700.0  \n",
       "Gentoo    Biscoe          5050.0  "
      ]
     },
     "execution_count": 33,
     "metadata": {},
     "output_type": "execute_result"
    }
   ],
   "source": [
    "# tính trung vị\n",
    "dt_penguins[['species','island','bill_length_mm','bill_depth_mm','flipper_length_mm','body_mass_g']].groupby(['species','island']).median()"
   ]
  },
  {
   "cell_type": "markdown",
   "metadata": {},
   "source": [
    "Nhận xét: Theo số liệu thống kê, thấy được tỉ lệ trung vị theo độ dài mỏ của mỗi loại chim trên các đảo như Loại Adelie so với chinstrap và Gentoo chênh lệch khoảng 10.00, theo độ sâu mỏ thì không có sự chênh lệch nhiều chỉ có chênh lệch với loại Gentoo khoảng 3.5, theo dài cánh thì tỉ lệ phân bố có sự đồng đều với chênh lệch không đang kể trên mỗi đảo, Cuối cùng là theo trọng lượng thì có sự chênh lệch khác cao của loại Gentoo so với các loại khác trên 10.00"
   ]
  },
  {
   "cell_type": "code",
   "execution_count": 34,
   "metadata": {},
   "outputs": [
    {
     "data": {
      "text/html": [
       "<div>\n",
       "<style scoped>\n",
       "    .dataframe tbody tr th:only-of-type {\n",
       "        vertical-align: middle;\n",
       "    }\n",
       "\n",
       "    .dataframe tbody tr th {\n",
       "        vertical-align: top;\n",
       "    }\n",
       "\n",
       "    .dataframe thead th {\n",
       "        text-align: right;\n",
       "    }\n",
       "</style>\n",
       "<table border=\"1\" class=\"dataframe\">\n",
       "  <thead>\n",
       "    <tr style=\"text-align: right;\">\n",
       "      <th></th>\n",
       "      <th></th>\n",
       "      <th>bill_length_mm</th>\n",
       "      <th>bill_depth_mm</th>\n",
       "      <th>flipper_length_mm</th>\n",
       "      <th>body_mass_g</th>\n",
       "    </tr>\n",
       "    <tr>\n",
       "      <th>species</th>\n",
       "      <th>island</th>\n",
       "      <th></th>\n",
       "      <th></th>\n",
       "      <th></th>\n",
       "      <th></th>\n",
       "    </tr>\n",
       "  </thead>\n",
       "  <tbody>\n",
       "    <tr>\n",
       "      <th rowspan=\"3\" valign=\"top\">Adelie</th>\n",
       "      <th>Biscoe</th>\n",
       "      <td>2.480916</td>\n",
       "      <td>1.188820</td>\n",
       "      <td>6.729247</td>\n",
       "      <td>487.733722</td>\n",
       "    </tr>\n",
       "    <tr>\n",
       "      <th>Dream</th>\n",
       "      <td>2.484276</td>\n",
       "      <td>1.140598</td>\n",
       "      <td>6.480325</td>\n",
       "      <td>448.774519</td>\n",
       "    </tr>\n",
       "    <tr>\n",
       "      <th>Torgersen</th>\n",
       "      <td>3.028097</td>\n",
       "      <td>1.346472</td>\n",
       "      <td>6.220062</td>\n",
       "      <td>451.846351</td>\n",
       "    </tr>\n",
       "    <tr>\n",
       "      <th>Chinstrap</th>\n",
       "      <th>Dream</th>\n",
       "      <td>3.339256</td>\n",
       "      <td>1.135395</td>\n",
       "      <td>7.131894</td>\n",
       "      <td>384.335081</td>\n",
       "    </tr>\n",
       "    <tr>\n",
       "      <th>Gentoo</th>\n",
       "      <th>Biscoe</th>\n",
       "      <td>3.106116</td>\n",
       "      <td>0.985998</td>\n",
       "      <td>6.585431</td>\n",
       "      <td>501.476154</td>\n",
       "    </tr>\n",
       "  </tbody>\n",
       "</table>\n",
       "</div>"
      ],
      "text/plain": [
       "                     bill_length_mm  bill_depth_mm  flipper_length_mm  \\\n",
       "species   island                                                        \n",
       "Adelie    Biscoe           2.480916       1.188820           6.729247   \n",
       "          Dream            2.484276       1.140598           6.480325   \n",
       "          Torgersen        3.028097       1.346472           6.220062   \n",
       "Chinstrap Dream            3.339256       1.135395           7.131894   \n",
       "Gentoo    Biscoe           3.106116       0.985998           6.585431   \n",
       "\n",
       "                     body_mass_g  \n",
       "species   island                  \n",
       "Adelie    Biscoe      487.733722  \n",
       "          Dream       448.774519  \n",
       "          Torgersen   451.846351  \n",
       "Chinstrap Dream       384.335081  \n",
       "Gentoo    Biscoe      501.476154  "
      ]
     },
     "execution_count": 34,
     "metadata": {},
     "output_type": "execute_result"
    }
   ],
   "source": [
    "# tính độ lệch chuẩn\n",
    "dt_penguins[['species','island','bill_length_mm','bill_depth_mm','flipper_length_mm','body_mass_g']].groupby(['species','island']).std()"
   ]
  },
  {
   "cell_type": "markdown",
   "metadata": {},
   "source": [
    "Nhận xét: Nhìn vào thống kê ta cũng thấy được sự chênh lệch giữa các loại chim trên mỗi đảo được thống kê theo độ dài mỏ, độ sâu mỏ, độ dài cánh và trọng lượng được tính độ lệch chuẩn thì không có sự chênh lệch quá nhiều giữa mỗi loại"
   ]
  },
  {
   "cell_type": "markdown",
   "metadata": {},
   "source": [
    "d.Dựa trên kết quả tính được, bạn có rút ra được nhận xét gì không?\n"
   ]
  },
  {
   "cell_type": "markdown",
   "metadata": {},
   "source": [
    "3.(2 điểm) Vẽ đồ thị phù hợp thể hiện phân phối của ba loại chim cánh cụt, qua đó bạn hãy đưa ra bình luận của mình."
   ]
  },
  {
   "cell_type": "code",
   "execution_count": 21,
   "metadata": {},
   "outputs": [
    {
     "data": {
      "image/png": "[encoded data removed]",
      "text/plain": [
       "<Figure size 640x480 with 1 Axes>"
      ]
     },
     "metadata": {},
     "output_type": "display_data"
    }
   ],
   "source": [
    "species = dt_penguins.groupby(['species']).size().index.tolist()\n",
    "plt.bar(species, dt_penguins.groupby(['species']).size().tolist())\n",
    "plt.xlabel('Species')\n",
    "plt.ylabel('Count')\n",
    "plt.title('Species count')\n",
    "plt.show()"
   ]
  },
  {
   "cell_type": "markdown",
   "metadata": {},
   "source": [
    "4.(2 điểm) Chọn loại đồ thị phù hợp để khảo sát mối quan hệ giữa độ dài cánh và trọng lượng của loài chim cánh cụt Gentoo:\n",
    "\n",
    "a.Theo bạn hai đại lượng này có quan hệ với nhau hay không? Giải thích.\n",
    "\n",
    "b.Ngoài độ dài cánh, theo bạn còn thuộc tính nào có khả năng ảnh hưởng đến trọng lượng của loài chim Gentoo?"
   ]
  },
  {
   "cell_type": "code",
   "execution_count": 28,
   "metadata": {},
   "outputs": [
    {
     "data": {
      "image/png": "[encoded data removed]",
      "text/plain": [
       "<Figure size 640x480 with 1 Axes>"
      ]
     },
     "metadata": {},
     "output_type": "display_data"
    }
   ],
   "source": [
    "#  Chọn loại đồ thị phù hợp để khảo sát mối quan hệ giữa độ dài cánh và trọng lượng của loài chim cánh cụt Gentoo:\n",
    "Gentoo_Flipper_Length = dt_penguins[dt_penguins['species'] == 'Gentoo']['flipper_length_mm']\n",
    "Gentoo_body_mass = dt_penguins[dt_penguins['species'] == 'Gentoo']['body_mass_g']\n",
    "\n",
    "plt.bar(Gentoo_Flipper_Length, Gentoo_body_mass)\n",
    "plt.xlabel('Flipper Length')\n",
    "plt.ylabel('Body Mass')\n",
    "plt.title('Gentoo Flipper Length vs Body Mass')\n",
    "plt.show()\n",
    "\n"
   ]
  },
  {
   "cell_type": "markdown",
   "metadata": {},
   "source": [
    "Theo bạn hai đại lượng này có quan hệ với nhau hay không? Giải thích\n",
    "\n",
    "Có, hai đại lượng này có mối quan hệ tuyến tính với nhau,\n",
    "khi độ dài cánh tăng thì trọng lượng cơ thể cũng tăng theo."
   ]
  },
  {
   "cell_type": "code",
   "execution_count": 26,
   "metadata": {},
   "outputs": [
    {
     "data": {
      "image/png": "[encoded data removed]",
      "text/plain": [
       "<Figure size 640x480 with 1 Axes>"
      ]
     },
     "metadata": {},
     "output_type": "display_data"
    }
   ],
   "source": [
    "# b.Ngoài độ dài cánh, theo bạn còn thuộc tính nào có khả năng ảnh hưởng đến trọng lượng của loài chim Gentoo?\n",
    "\n",
    "Gentoo_bill_length = dt_penguins[dt_penguins['species'] == 'Gentoo']['bill_length_mm']\n",
    "Gentoo_body_mass = dt_penguins[dt_penguins['species'] == 'Gentoo']['body_mass_g']\n",
    "\n",
    "plt.bar(Gentoo_bill_length, Gentoo_body_mass)\n",
    "plt.xlabel('Bill Length')\n",
    "plt.ylabel('Body Mass')\n",
    "plt.title('Gentoo Bill Length vs Body Mass')\n",
    "plt.show()\n"
   ]
  }
 ],
 "metadata": {
  "kernelspec": {
   "display_name": "base",
   "language": "python",
   "name": "python3"
  },
  "language_info": {
   "codemirror_mode": {
    "name": "ipython",
    "version": 3
   },
   "file_extension": ".py",
   "mimetype": "text/x-python",
   "name": "python",
   "nbconvert_exporter": "python",
   "pygments_lexer": "ipython3",
   "version": "3.11.5"
  }
 },
 "nbformat": 4,
 "nbformat_minor": 2
}
