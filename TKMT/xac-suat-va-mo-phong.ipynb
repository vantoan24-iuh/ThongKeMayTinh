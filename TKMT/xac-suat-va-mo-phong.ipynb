{
 "cells": [
  {
   "cell_type": "markdown",
   "id": "78bc0e3d-7f62-42d1-9c3d-ee0adae415bb",
   "metadata": {},
   "source": [
    "# Xác Suất và Mô Phỏng"
   ]
  },
  {
   "cell_type": "code",
   "execution_count": null,
   "id": "fb4fcc41-1c6f-46ae-96a3-ed08a4b8da6d",
   "metadata": {},
   "outputs": [],
   "source": [
    "import numpy as np\n",
    "import pandas as pd\n",
    "import matplotlib.pyplot as plt\n",
    "\n",
    "from scipy.stats import binom\n",
    "from scipy.stats import poisson\n",
    "from scipy.stats import norm"
   ]
  },
  {
   "cell_type": "markdown",
   "id": "bd6b8b5f-db2f-446d-98e1-f6917144e0d5",
   "metadata": {
    "tags": []
   },
   "source": [
    "## 1. Biến ngẫu nhiên rời rạc\n",
    "\n",
    "Giả sử X là biến ngẫu nhiên rời rạc\n",
    "\n",
    "a. Hãy cho biết ý nghĩa câu lệnh sau: `binom.pmf(4, 10, 0.6)`\n",
    "\n",
    "b. Giả sử X có phân phối nhị thức `X ~ B(10, 0.6)`. Hãy tính các giá trị sau:  \n",
    "$P(X \\leq 5), P(X \\le 5), P(X \\ge 4), P(X = 5) $\n",
    "\n",
    "c. Hãy cho biết ý nghĩa câu lệnh sau: `poisson.pmf(4, 3)`\n",
    "\n",
    "d. Giả sử X có phân phối Poisson `X ~ P(3)`. Hãy tính các giá trị sau:  \n",
    "$P(X \\leq 5), P(X \\le 5), P(X \\ge 4), P(X = 5) $"
   ]
  },
  {
   "cell_type": "code",
   "execution_count": null,
   "id": "fdc5d125-cbc1-4809-b704-7ddbf442490a",
   "metadata": {},
   "outputs": [
    {
     "name": "stdout",
     "output_type": "stream",
     "text": [
      "0.3668967424000001\n",
      "P(X <= 5) 0.3668967424000001\n",
      "P(x >= 5) 0.8337613824\n",
      "P(x >= 4) 0.9452381183999999\n"
     ]
    }
   ],
   "source": [
    "# a. Hãy cho biết ý nghĩa câu lệnh sau: `binom.pmf(4, 10, 0.6)`\n",
    "# Câu lệnh binom.pmf(4, 10, 0.6) có ý nghĩa là tính xác suất của biến ngẫu nhiên có phân phối nhị thức X ~ B(10, 0.6) nhận giá trị 4, n = 10, p = 0.6.\n",
    "# Xác suất này được tính bằng hàm khối xác suất (probability mass function - pmf) của phân phối nhị thức.\n",
    "\n",
    "\n",
    "# b. Giả sử X có phân phối nhị thức `X ~ B(10, 0.6)`. Hãy tính các giá trị sau:  \n",
    "# P(X <= 5), P(X >= 5), P(X >= 4), P(X = 5) \n",
    "n = 10\n",
    "p = 0.6\n",
    "print(binom.cdf(5, n, p))\n",
    "# P(X <= 5)\n",
    "\n",
    "print(\"P(X <= 5)\", binom.cdf(5, n, p))\n",
    "# P(X >= 5) = 1 - P(X < 5) = 1 - P(X <= 4)\n",
    "print(\"P(x >= 5)\",1 - binom.cdf(5-1,n, p))\n",
    "# P(X >= 4) = 1 - P(X < 4) = 1 - P(X <= 3) \n",
    "print(\"P(x >= 4)\", 1 - binom.cdf(4-1,n, p))\n",
    "\n",
    "# c. Hãy cho biết ý nghĩa câu lệnh sau: `poisson.pmf(4, 3)`\n",
    "# Câu lệnh poisson.pmf(4, 3) có ý nghĩa là tính giá trị xác suất của phân phối Poisson\n",
    "# Cho sự kiện xảy ra chính xác 4 lần trong một khoảng thời gian hoặc không gian cụ thể, khi giá trị kỳ vọng (mean) là 3.\n",
    "\n",
    "# d. Giả sử X có phân phối Poisson `X ~ P(3)`. Hãy tính các giá trị sau:  \n",
    "# $P(X \\leq 5), P(X \\le 5), P(X \\ge 4), P(X = 5) $"
   ]
  },
  {
   "cell_type": "markdown",
   "id": "9ca99bbf-af74-43da-8848-ba95a9ad1c4b",
   "metadata": {},
   "source": [
    "# 2. Tỷ lệ đậu\n",
    "\n",
    "Một môn học X được tổ chức mỗi học kỳ có tỷ lệ thí sinh học qua môn trung bình là 80%, và mỗi học kỳ có 250 sinh viên đăng ký dự thi. Tính giá trị kỳ vọng và độ lệch chuẩn của số lượng thí sinh không vượt qua môn học?"
   ]
  },
  {
   "cell_type": "code",
   "execution_count": null,
   "id": "3126b744-20bd-4934-ab58-a6a42f67919a",
   "metadata": {},
   "outputs": [
    {
     "name": "stdout",
     "output_type": "stream",
     "text": [
      "Giá trị kỳ vọng:  50.0\n",
      "Phương sai:  40.0\n"
     ]
    }
   ],
   "source": [
    "p = 0.2\n",
    "n = 250\n",
    "print(\"Giá trị kỳ vọng: \", n*p)\n",
    "print(\"Phương sai: \", n*p*(1-p))"
   ]
  },
  {
   "cell_type": "markdown",
   "id": "ba8bd1c5-e6c8-46b4-b860-83d788eed4d3",
   "metadata": {},
   "source": [
    "## 3. Tổng đài\n",
    "\n",
    "Một tổng đài trung bình trong một giờ nhận được 180 cuộc gọi một cách ngẫu nhiên. Nếu trong 5 phút có từ hơn 20 cuộc gọi trở lên, thì tổng đài sẽ quá tải và người gọi đến sẽ phải chờ đợi. Giả sử số cuộc gọi nhận được trong 5 phút của tổng đài có phân phối Poisson. Tính:\n",
    "\n",
    "a. Xác suất nhận được nhiều hơn 19 cuộc gọi mỗi 5 phút.\n",
    "\n",
    "b. Trong 5 phút tổng đài có thể nhận được nhiều nhất bao nhiêu cuộc gọi để xác suất các cuộc gọi đều được xử lý ít nhất là 99%"
   ]
  },
  {
   "cell_type": "code",
   "execution_count": null,
   "id": "252c9491",
   "metadata": {},
   "outputs": [
    {
     "name": "stdout",
     "output_type": "stream",
     "text": [
      "a. Xác suất nhận được nhiều hơn 19 cuộc gọi mỗi 5 phút là: 8.314404720266566e-11\n",
      "b. Số cuộc gọi tối đa để xác suất không quá tải ít nhất 99% là: 8\n"
     ]
    }
   ],
   "source": [
    "import math\n",
    "\n",
    "# Hàm tính xác suất theo phân phối Poisson\n",
    "def poisson_probability(lam, k):\n",
    "    return (lam ** k) * math.exp(-lam) / math.factorial(k)\n",
    "\n",
    "# a. Xác suất nhận được nhiều hơn 19 cuộc gọi mỗi 5 phút\n",
    "lam = 3  # lambda\n",
    "probability = 1 - sum(poisson_probability(lam, k) for k in range(20))\n",
    "print(\"a. Xác suất nhận được nhiều hơn 19 cuộc gọi mỗi 5 phút là:\", probability)\n",
    "\n",
    "# b. Tìm số cuộc gọi tối đa để xác suất không quá tải ít nhất 99%\n",
    "lam = 3  # lambda\n",
    "max_calls = 0\n",
    "while True:\n",
    "    probability = sum(poisson_probability(lam, k) for k in range(max_calls + 1))\n",
    "    if probability >= 0.99:\n",
    "        break\n",
    "    max_calls += 1\n",
    "print(\"b. Số cuộc gọi tối đa để xác suất không quá tải ít nhất 99% là:\", max_calls)\n"
   ]
  },
  {
   "cell_type": "code",
   "execution_count": null,
   "id": "13dfce33-1b43-4b84-8ca0-40ab7c315f5e",
   "metadata": {},
   "outputs": [
    {
     "name": "stdout",
     "output_type": "stream",
     "text": [
      "P(X >= 19):  8.314426924727059e-11\n",
      "Số cuộc gọi tối đa:  8.0\n"
     ]
    }
   ],
   "source": [
    "k = 19\n",
    "# Trung bình một giờ nhận được 180 cuộc gọi => mỗi phút thì nhận được 3 cuộc gọi\n",
    "lamda = 180 / 60\n",
    "#  nhiều hơn 19 cuộc gọi mỗi 5 phút P(X >= 19)\n",
    "print(\"P(X >= 19): \", 1 - poisson.cdf(k, lamda))\n",
    "\n",
    "# b. Trong 5 phút tổng đài có thể nhận được nhiều nhất bao nhiêu cuộc gọi để xác suất các cuộc gọi đều được xử lý ít nhất là 99%\n",
    "print(\"Số cuộc gọi tối đa: \", poisson.ppf(0.99, lamda))"
   ]
  },
  {
   "cell_type": "markdown",
   "id": "77b61c24-7ac7-42a5-9cd4-a60d7edd7b5a",
   "metadata": {},
   "source": [
    "## 4. Phân phối liên tục\n",
    "\n",
    "a. Cho biết ý nghĩa của các câu lệnh sau:\n",
    "\n",
    "- `norm.cdf(2)`\n",
    "\n",
    "- `norm.cdf(2, 1, 1)`\n",
    "\n",
    "- `norm.cdf(2, 1, 2)`\n",
    "\n",
    "b. Cho biết kết quả của câu lệnh sau: `norm.ppf(norm.cdf(2))`\n",
    "\n",
    "c. Tính các giá trị sau và vẽ hình minh họa cho các giá trị tính được:\n",
    "\n",
    "- `norm.ppf(0.975)`\n",
    "\n",
    "- `norm.ppf(0.975, 1, 1)`\n",
    "\n",
    "- `norm.ppf(0.975, 1, 2)`\n",
    "\n",
    "d. Giả sử biến ngẫu nhiên X có phân phối chuẩn với kỳ vọng là 24 và phương sai là 16. Hãy tính các giá trị sau:\n",
    "\n",
    "- $P(X \\leq 20)$\n",
    "- $P(X \\ge 29.5)$\n",
    "- $P(X = 23.8)$"
   ]
  },
  {
   "cell_type": "code",
   "execution_count": null,
   "id": "7d057112-c14b-4acc-a951-79453557192c",
   "metadata": {},
   "outputs": [
    {
     "name": "stdout",
     "output_type": "stream",
     "text": [
      "Kết quả của norm.ppf(norm.cdf(2)) là:  2.0\n",
      "Kết quả norm.ppf(0.975):  1.96\n",
      "Kết quả norm.ppf(0.975,1 ,1):  2.96\n",
      "Kết quả norm.ppf(0.975, 1, 2):  4.9199\n",
      "P(X <= 20):  0.15865525393145707\n",
      "P(X >= 29.5):  0.08456572235133564\n"
     ]
    },
    {
     "ename": "AttributeError",
     "evalue": "'norm_gen' object has no attribute 'pmf'",
     "output_type": "error",
     "traceback": [
      "\u001b[1;31m---------------------------------------------------------------------------\u001b[0m",
      "\u001b[1;31mAttributeError\u001b[0m                            Traceback (most recent call last)",
      "Cell \u001b[1;32mIn[6], line 24\u001b[0m\n\u001b[0;32m     22\u001b[0m \u001b[38;5;28mprint\u001b[39m(\u001b[38;5;124m\"\u001b[39m\u001b[38;5;124mP(X <= 20): \u001b[39m\u001b[38;5;124m\"\u001b[39m, norm\u001b[38;5;241m.\u001b[39mcdf(\u001b[38;5;241m20\u001b[39m, nguy, std))\n\u001b[0;32m     23\u001b[0m \u001b[38;5;28mprint\u001b[39m(\u001b[38;5;124m\"\u001b[39m\u001b[38;5;124mP(X >= 29.5): \u001b[39m\u001b[38;5;124m\"\u001b[39m, \u001b[38;5;241m1\u001b[39m \u001b[38;5;241m-\u001b[39m norm\u001b[38;5;241m.\u001b[39mcdf(\u001b[38;5;241m29.5\u001b[39m, nguy, std))\n\u001b[1;32m---> 24\u001b[0m \u001b[38;5;28mprint\u001b[39m(\u001b[38;5;124m\"\u001b[39m\u001b[38;5;124mP(X = 23.9): \u001b[39m\u001b[38;5;124m\"\u001b[39m, \u001b[43mnorm\u001b[49m\u001b[38;5;241;43m.\u001b[39;49m\u001b[43mpmf\u001b[49m(\u001b[38;5;241m23.9\u001b[39m, nguy, std))\n",
      "\u001b[1;31mAttributeError\u001b[0m: 'norm_gen' object has no attribute 'pmf'"
     ]
    }
   ],
   "source": [
    "#a \n",
    "# Ý nghĩa của câu lệnh norm.cdf(2)\n",
    "# Câu lệnh norm.cdf(2) có ý nghĩa là  tính gia trị phân phối chuẩn tại giá trị x = 2\n",
    "\n",
    "# Ý nghĩa của câu lệnh norm.cdf(2, 1, 1)\n",
    "# Câu lệnh norm.cdf(2, 1, 1) có ý nghĩa là tính giá trị xác xuất phân phối chuẩn tại x = 2,  nguy = 1, std = 1\n",
    "\n",
    "# Ý nghĩa của câu lệnh norm.cdf(2, 1, 2)\n",
    "# Câu lệnh norm.cdf(2, 1, 2) có ý nghĩa là tính giá trị xác xuất phân phối chuẩn tại x = 2,  nguy = 1, std = 2\n",
    "\n",
    "# b\n",
    "print(\"Kết quả của norm.ppf(norm.cdf(2)) là: \", norm.ppf(norm.cdf(2)).round(2))\n",
    "\n",
    "# c Tính các giá trị sau:\n",
    "print(\"Kết quả norm.ppf(0.975): \", norm.ppf(0.975).round(4))\n",
    "print(\"Kết quả norm.ppf(0.975,1 ,1): \", norm.ppf(0.975,1, 1).round(4))\n",
    "print(\"Kết quả norm.ppf(0.975, 1, 2): \", norm.ppf(0.975, 1, 2).round(4))\n",
    "\n",
    "# d\n",
    "nguy = 24\n",
    "std = 4\n",
    "print(\"P(X <= 20): \", norm.cdf(20, nguy, std))\n",
    "print(\"P(X >= 29.5): \", 1 - norm.cdf(29.5, nguy, std))\n",
    "print(\"P(X = 23.9): \", norm.pmf(23.9, nguy, std))\n",
    "\n"
   ]
  },
  {
   "cell_type": "markdown",
   "id": "36a60713-3ddc-4a18-8eb7-e69e3e9cbd14",
   "metadata": {},
   "source": [
    "## 5. Độ dài chi tiết máy\n",
    "\n",
    "Một công ty sản xuất làm ra các chi tiết máy với độ dài các chi tiết có phân phối chuẩn với kỳ vọng là 3000 mm và độ lệch chuẩn là 3 mm. Yêu cầu cho các chi tiết máy này là phải có chiều dài từ 2993 mm đến 3007 mm. Tính tỷ lệ sản phẩm lỗi của công ty"
   ]
  },
  {
   "cell_type": "code",
   "execution_count": null,
   "id": "a29b88a0-bcac-45bd-b969-c510e9954bd3",
   "metadata": {},
   "outputs": [
    {
     "name": "stdout",
     "output_type": "stream",
     "text": [
      "2993 <= x <= 3007:  0.9803693427427094\n"
     ]
    }
   ],
   "source": [
    "nguy = 3000\n",
    "std = 3\n",
    "\n",
    "xs_2993 =  norm.cdf(2993, nguy, std)\n",
    "xs_3007 = norm.cdf(3007, nguy, std)\n",
    "print(\"2993 <= x <= 3007: \", xs_3007 - xs_2993)\n"
   ]
  },
  {
   "cell_type": "markdown",
   "id": "27a0e06c-71dd-4aa5-83c1-474377ea1db1",
   "metadata": {},
   "source": [
    "## 6. Mô phỏng phân phối Chuẩn\n",
    "\n",
    "Giả sử điểm thi TOEIC là một biến ngẫu nhiên có phân phối chuẩn với kỳ vọng là 500, độ lệch chuẩn là 8. Bạn hãy:\n",
    "\n",
    "a. Mô phỏng bằng cách phát sinh ngẫu nhiên điểm thi TOIEC của một nhóm gồm 50 người.\n",
    "\n",
    "b. Tính điểm trung bình và độ lệch chuẩn về điểm của nhóm.\n",
    "\n",
    "c. Tìm miền giá trị, và miền phân vị (IQR) của nhóm\n",
    "\n",
    "d. Cho biết tỷ lệ đạt trên 450 điểm của nhóm. \n",
    "\n",
    "e. Vẽ đồ thị histogram của nhóm và so sánh với đồ thị hàm mật độ của phân phối chuẩn với kỳ vọng là 500 và độ lệch chuẩn là 8.\n",
    "\n",
    "f. Thay vì mô phỏng 50 người, hãy mô phỏng nhóm với 100 người thi. Bạn có nhận xét gì?"
   ]
  },
  {
   "cell_type": "code",
   "execution_count": null,
   "id": "78c5610a-087c-4ea6-ba34-e55e2e1d6c07",
   "metadata": {},
   "outputs": [
    {
     "name": "stdout",
     "output_type": "stream",
     "text": [
      "mean:  500.5900107314002\n",
      "std:  7.644478321012541\n",
      "Miiền giá trị:  41.330222619368215\n",
      "Miền phân vị (IQR):  8.974594235298639\n",
      "Xs đạt tỉ lệ trên 450:  0.9999999997947736\n"
     ]
    },
    {
     "data": {
      "image/png": "[encoded data removed]",
      "text/plain": [
       "<Figure size 1000x500 with 2 Axes>"
      ]
     },
     "metadata": {},
     "output_type": "display_data"
    }
   ],
   "source": [
    "nguy = 500\n",
    "std = 8\n",
    "# a\n",
    "sample_50 = norm.rvs(nguy, std, 50)\n",
    "\n",
    "# b\n",
    "print(\"mean: \", np.mean(sample_50))\n",
    "print(\"std: \", np.std(sample_50))\n",
    "\n",
    "#c\n",
    "print(\"Miiền giá trị: \", np.max(sample_50) - np.min(sample_50))\n",
    "print(\"Miền phân vị (IQR): \", np.quantile(sample_50, 0.75) - np.quantile(sample_50, 0.25))\n",
    "\n",
    "# d\n",
    "print(\"Xs đạt tỉ lệ trên 450: \", 1 - norm.cdf(450, nguy, std))\n",
    "\n",
    "# Ve do thi\n",
    "fig, axe = plt.subplots(1, 2, figsize = (10, 5))\n",
    "axe[0].hist(sample_50, bins = 20)\n",
    "axe[0].set_title(\"Sample 50\");\n",
    "\n",
    "axe[1].plot(norm.pdf(sample_50, nguy, std));"
   ]
  },
  {
   "cell_type": "markdown",
   "id": "0fca5cde",
   "metadata": {},
   "source": [
    "Một phân xưởng có 5 máy hoạt động độc lập. Giả sử xác suất để mỗi máy bị hỏng trong mộ ngày đều bằng 0.1\n",
    "Tính xác suất để trong ngày không có quá hai máy hỏng?"
   ]
  },
  {
   "cell_type": "code",
   "execution_count": null,
   "id": "c1575fa3",
   "metadata": {},
   "outputs": [
    {
     "name": "stdout",
     "output_type": "stream",
     "text": [
      "P(x <= 1) 0.008559999999999995\n"
     ]
    }
   ],
   "source": [
    "p = 0.9\n",
    "n = 5\n",
    "print(\"P(x <= 2)\", binom.cdf(2, n, p))"
   ]
  },
  {
   "cell_type": "markdown",
   "id": "1c68caa5",
   "metadata": {},
   "source": [
    "> Cho biến ngẫu nhiên X có phân phối chuẩn với kỳ vọng là 35, độ lệch chuẩn là 10. \n",
    ">\n",
    "> Tính P(28 < X < 34) = ?"
   ]
  },
  {
   "cell_type": "code",
   "execution_count": null,
   "id": "5de0b808",
   "metadata": {},
   "outputs": [
    {
     "name": "stdout",
     "output_type": "stream",
     "text": [
      "0.21820851049989798\n"
     ]
    }
   ],
   "source": [
    "print(norm.cdf(34, 35, 10) - norm.cdf(28, 35, 10))"
   ]
  },
  {
   "cell_type": "markdown",
   "id": "ae74f1e2",
   "metadata": {},
   "source": [
    "Cân nặng của những con tuần lộc đực có phân phối chuẩn với kỳ vọng là 102.4 (kg) và độ lệch chuẩn là 13.9 (kg).\n",
    "\n",
    "Dunder là một con trong số con tuần lộc nhỏ của ông giá Noel. Giả sử rằng có chính xác 10% tổng số tuần lộc có cân nặng nhỏ hơn Dunder.\n",
    "\n",
    "Hỏi Dunder có cân nặng bao nhiêu?"
   ]
  },
  {
   "cell_type": "code",
   "execution_count": null,
   "id": "43b9d3ba",
   "metadata": {},
   "outputs": [
    {
     "data": {
      "text/plain": [
       "84.58643323893006"
      ]
     },
     "execution_count": 11,
     "metadata": {},
     "output_type": "execute_result"
    }
   ],
   "source": [
    "norm.ppf(0.1, 102.4, 13.9)"
   ]
  },
  {
   "cell_type": "markdown",
   "id": "b83b6135",
   "metadata": {},
   "source": [
    "Điểm một bài thi là biến ngẫu nhiên có phân phối chuẩn với kỳ vọng là 100 và độ lệch chuẩn là 20. \n",
    "\n",
    "Cho biết giá trị phân vị 25 của điểm là bao nhiêu?"
   ]
  },
  {
   "cell_type": "code",
   "execution_count": null,
   "id": "e454a5b2",
   "metadata": {},
   "outputs": [
    {
     "data": {
      "text/plain": [
       "86.51020499607837"
      ]
     },
     "execution_count": 13,
     "metadata": {},
     "output_type": "execute_result"
    }
   ],
   "source": [
    "norm.ppf(0.25, 100,20)"
   ]
  },
  {
   "cell_type": "markdown",
   "id": "f94b10bb",
   "metadata": {},
   "source": [
    "Cho biến ngẫu nhiên X có phân phối chuẩn với kỳ vọng là 35, độ lệch chuẩn là 10. \n",
    "\n",
    "Tính P(X > 34) = ?\n"
   ]
  },
  {
   "cell_type": "code",
   "execution_count": null,
   "metadata": {},
   "outputs": [
    {
     "data": {
      "text/plain": [
       "0.539827837277029"
      ]
     },
     "execution_count": 15,
     "metadata": {},
     "output_type": "execute_result"
    }
   ],
   "source": [
    "1-norm.cdf(34,35,10)"
   ]
  }
 ],
 "metadata": {
  "kernelspec": {
   "display_name": "Python 3 (ipykernel)",
   "language": "python",
   "name": "python3"
  },
  "language_info": {
   "codemirror_mode": {
    "name": "ipython",
    "version": 3
   },
   "file_extension": ".py",
   "mimetype": "text/x-python",
   "name": "python",
   "nbconvert_exporter": "python",
   "pygments_lexer": "ipython3",
   "version": "3.11.5"
  }
 },
 "nbformat": 4,
 "nbformat_minor": 5
}
